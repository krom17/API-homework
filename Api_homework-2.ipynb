{
 "cells": [
  {
   "cell_type": "code",
   "execution_count": 1,
   "id": "9dd36d21",
   "metadata": {},
   "outputs": [
    {
     "name": "stdout",
     "output_type": "stream",
     "text": [
      "Requirement already satisfied: pandas in /Users/khalidromain/opt/anaconda3/lib/python3.8/site-packages (1.3.4)\n",
      "Requirement already satisfied: python-dateutil>=2.7.3 in /Users/khalidromain/opt/anaconda3/lib/python3.8/site-packages (from pandas) (2.8.2)\n",
      "Requirement already satisfied: pytz>=2017.3 in /Users/khalidromain/opt/anaconda3/lib/python3.8/site-packages (from pandas) (2021.3)\n",
      "Requirement already satisfied: numpy>=1.17.3 in /Users/khalidromain/opt/anaconda3/lib/python3.8/site-packages (from pandas) (1.19.0)\n",
      "Requirement already satisfied: six>=1.5 in /Users/khalidromain/opt/anaconda3/lib/python3.8/site-packages (from python-dateutil>=2.7.3->pandas) (1.16.0)\n",
      "Collecting pathlib\n",
      "  Downloading pathlib-1.0.1.tar.gz (49 kB)\n",
      "\u001b[K     |████████████████████████████████| 49 kB 2.7 MB/s eta 0:00:01\n",
      "\u001b[?25hBuilding wheels for collected packages: pathlib\n",
      "  Building wheel for pathlib (setup.py) ... \u001b[?25ldone\n",
      "\u001b[?25h  Created wheel for pathlib: filename=pathlib-1.0.1-py3-none-any.whl size=14363 sha256=47b28dcb7f624abc861309d2dbe304aef183a3ff9d80dd97ce639e446a5c18d2\n",
      "  Stored in directory: /Users/khalidromain/Library/Caches/pip/wheels/59/02/2f/ff4a3e16a518feb111ae1405908094483ef56fec0dfa39e571\n",
      "Successfully built pathlib\n",
      "Installing collected packages: pathlib\n",
      "Successfully installed pathlib-1.0.1\n",
      "\u001b[31mERROR: Could not find a version that satisfies the requirement os (from versions: none)\u001b[0m\n",
      "\u001b[31mERROR: No matching distribution found for os\u001b[0m\n",
      "Requirement already satisfied: requests in /Users/khalidromain/opt/anaconda3/lib/python3.8/site-packages (2.26.0)\n",
      "Requirement already satisfied: charset-normalizer~=2.0.0 in /Users/khalidromain/opt/anaconda3/lib/python3.8/site-packages (from requests) (2.0.4)\n",
      "Requirement already satisfied: certifi>=2017.4.17 in /Users/khalidromain/opt/anaconda3/lib/python3.8/site-packages (from requests) (2021.10.8)\n",
      "Requirement already satisfied: idna<4,>=2.5 in /Users/khalidromain/opt/anaconda3/lib/python3.8/site-packages (from requests) (3.2)\n",
      "Requirement already satisfied: urllib3<1.27,>=1.21.1 in /Users/khalidromain/opt/anaconda3/lib/python3.8/site-packages (from requests) (1.26.7)\n",
      "\u001b[31mERROR: Could not find a version that satisfies the requirement load_dotenv (from versions: none)\u001b[0m\n",
      "\u001b[31mERROR: No matching distribution found for load_dotenv\u001b[0m\n",
      "\u001b[31mERROR: Could not find a version that satisfies the requirement MCSimulation (from versions: none)\u001b[0m\n",
      "\u001b[31mERROR: No matching distribution found for MCSimulation\u001b[0m\n",
      "Requirement already satisfied: alpaca-trade-api in /Users/khalidromain/opt/anaconda3/lib/python3.8/site-packages (1.4.3)\n",
      "\u001b[31mERROR: Could not find a version that satisfies the requirement as (from versions: none)\u001b[0m\n",
      "\u001b[31mERROR: No matching distribution found for as\u001b[0m\n"
     ]
    }
   ],
   "source": [
    "#Initial imports\n",
    "!pip install pandas\n",
    "!pip install pathlib\n",
    "!pip install os\n",
    "!pip install requests\n",
    "!pip install load_dotenv\n",
    "!pip install MCSimulation\n",
    "!pip install alpaca-trade-api as tradeapi\n",
    "%matplotlib inline\n"
   ]
  },
  {
   "cell_type": "code",
   "execution_count": 2,
   "id": "c7814878",
   "metadata": {},
   "outputs": [
    {
     "name": "stdout",
     "output_type": "stream",
     "text": [
      "Requirement already satisfied: pandas in /Users/khalidromain/opt/anaconda3/lib/python3.8/site-packages (1.3.4)\n",
      "Requirement already satisfied: python-dateutil>=2.7.3 in /Users/khalidromain/opt/anaconda3/lib/python3.8/site-packages (from pandas) (2.8.2)\n",
      "Requirement already satisfied: pytz>=2017.3 in /Users/khalidromain/opt/anaconda3/lib/python3.8/site-packages (from pandas) (2021.3)\n",
      "Requirement already satisfied: numpy>=1.17.3 in /Users/khalidromain/opt/anaconda3/lib/python3.8/site-packages (from pandas) (1.19.0)\n",
      "Requirement already satisfied: six>=1.5 in /Users/khalidromain/opt/anaconda3/lib/python3.8/site-packages (from python-dateutil>=2.7.3->pandas) (1.16.0)\n"
     ]
    }
   ],
   "source": [
    "!pip install pandas\n",
    "import os\n",
    "import requests\n",
    "import pandas as pd\n",
    "from dotenv import load_dotenv\n",
    "import alpaca_trade_api as tradeapi\n",
    "from MCForecastTools import MCSimulation\n",
    "\n",
    "%matplotlib inline"
   ]
  },
  {
   "cell_type": "code",
   "execution_count": 3,
   "id": "47050b87",
   "metadata": {},
   "outputs": [
    {
     "data": {
      "text/plain": [
       "True"
      ]
     },
     "execution_count": 3,
     "metadata": {},
     "output_type": "execute_result"
    }
   ],
   "source": [
    "#load .env environment variables\n",
    "load_dotenv()"
   ]
  },
  {
   "cell_type": "code",
   "execution_count": 4,
   "id": "63e2be95",
   "metadata": {},
   "outputs": [],
   "source": [
    "#PERSONAL FINANCE PLANNER\n",
    "# set current amount of crypto assets\n",
    "# Your COD HERE!\n",
    "my_btc = 1.2\n",
    "my_eth = 5.3"
   ]
  },
  {
   "cell_type": "code",
   "execution_count": 5,
   "id": "47cdd29a",
   "metadata": {},
   "outputs": [],
   "source": [
    "#Crypto API URL's\n",
    "btc_url = \"https://api.alternative.me/v2/ticker/Bitcoin/?convert=CAD\"\n",
    "eth_url = \"https://api.alternative.me/v2/ticker/Ethereum/?convert=CAD\""
   ]
  },
  {
   "cell_type": "code",
   "execution_count": 6,
   "id": "04facd3d",
   "metadata": {},
   "outputs": [
    {
     "data": {
      "text/plain": [
       "59962.766"
      ]
     },
     "execution_count": 6,
     "metadata": {},
     "output_type": "execute_result"
    }
   ],
   "source": [
    "#Fetch current BTC price\n",
    "#YOUR CODE HERE!\n",
    "response =requests.get(btc_url).json()\n",
    "BTC_price = response[\"data\"][\"1\"][\"quotes\"][\"CAD\"][\"price\"]\n",
    "#compute current value of my crypto\n",
    "BTC_price\n",
    "\n",
    "\n"
   ]
  },
  {
   "cell_type": "code",
   "execution_count": 7,
   "id": "0de1c2c8",
   "metadata": {},
   "outputs": [
    {
     "data": {
      "text/plain": [
       "4840.611872"
      ]
     },
     "execution_count": 7,
     "metadata": {},
     "output_type": "execute_result"
    }
   ],
   "source": [
    "#Fetch current ETH price\n",
    "response =requests.get(eth_url).json()\n",
    "ETH_price = response[\"data\"][\"1027\"][\"quotes\"][\"CAD\"][\"price\"]\n",
    "#compute current value of my crypto\n",
    "ETH_price\n",
    "\n",
    "\n",
    "    "
   ]
  },
  {
   "cell_type": "code",
   "execution_count": 8,
   "id": "a1068ed8",
   "metadata": {},
   "outputs": [
    {
     "name": "stdout",
     "output_type": "stream",
     "text": [
      "The current value of your 1.2 BTC is $59962.77\n",
      "The current value of your 5.3 ETH is $4840.61\n"
     ]
    }
   ],
   "source": [
    "#print current crypto wallet balance\n",
    "print(f\"The current value of your {my_btc} BTC is ${BTC_price:0.2f}\")\n",
    "print(f\"The current value of your {my_eth} ETH is ${ETH_price:0.2f}\")"
   ]
  },
  {
   "cell_type": "code",
   "execution_count": 9,
   "id": "39eba18d",
   "metadata": {},
   "outputs": [],
   "source": [
    "#COLLECT INVESTMENTS DATA USING ALPACA:SPY(STOCKC) AND AGG (BONDS)\n",
    "# Set current amount of shares\n",
    "my_agg = 200\n",
    "my_spy = 50"
   ]
  },
  {
   "cell_type": "code",
   "execution_count": 10,
   "id": "66f17eea",
   "metadata": {},
   "outputs": [],
   "source": [
    "# Set Alpaca API key and secret key\n",
    "alpaca_api_key = os.getenv(\"ALPACA_API_KEY\")\n",
    "alpaca_secret_key = os.getenv(\"ALPACA_SECRET_KEY\") "
   ]
  },
  {
   "cell_type": "code",
   "execution_count": 11,
   "id": "c8ca1a87",
   "metadata": {},
   "outputs": [],
   "source": [
    "#Create Alpaca API object\n",
    "  \n",
    "api = tradeapi.REST( alpaca_api_key, alpaca_secret_key, api_version = \"v2\")"
   ]
  },
  {
   "cell_type": "code",
   "execution_count": 12,
   "id": "27e9c65a",
   "metadata": {},
   "outputs": [
    {
     "data": {
      "text/html": [
       "<div>\n",
       "<style scoped>\n",
       "    .dataframe tbody tr th:only-of-type {\n",
       "        vertical-align: middle;\n",
       "    }\n",
       "\n",
       "    .dataframe tbody tr th {\n",
       "        vertical-align: top;\n",
       "    }\n",
       "\n",
       "    .dataframe thead tr th {\n",
       "        text-align: left;\n",
       "    }\n",
       "\n",
       "    .dataframe thead tr:last-of-type th {\n",
       "        text-align: right;\n",
       "    }\n",
       "</style>\n",
       "<table border=\"1\" class=\"dataframe\">\n",
       "  <thead>\n",
       "    <tr>\n",
       "      <th></th>\n",
       "      <th colspan=\"5\" halign=\"left\">AGG</th>\n",
       "      <th colspan=\"5\" halign=\"left\">SPY</th>\n",
       "    </tr>\n",
       "    <tr>\n",
       "      <th></th>\n",
       "      <th>open</th>\n",
       "      <th>high</th>\n",
       "      <th>low</th>\n",
       "      <th>close</th>\n",
       "      <th>volume</th>\n",
       "      <th>open</th>\n",
       "      <th>high</th>\n",
       "      <th>low</th>\n",
       "      <th>close</th>\n",
       "      <th>volume</th>\n",
       "    </tr>\n",
       "    <tr>\n",
       "      <th>time</th>\n",
       "      <th></th>\n",
       "      <th></th>\n",
       "      <th></th>\n",
       "      <th></th>\n",
       "      <th></th>\n",
       "      <th></th>\n",
       "      <th></th>\n",
       "      <th></th>\n",
       "      <th></th>\n",
       "      <th></th>\n",
       "    </tr>\n",
       "  </thead>\n",
       "  <tbody>\n",
       "    <tr>\n",
       "      <th>2021-12-08 00:00:00-05:00</th>\n",
       "      <td>114.37</td>\n",
       "      <td>114.370</td>\n",
       "      <td>114.05</td>\n",
       "      <td>114.17</td>\n",
       "      <td>7416826.0</td>\n",
       "      <td>468.70</td>\n",
       "      <td>470.0000</td>\n",
       "      <td>466.83</td>\n",
       "      <td>469.54</td>\n",
       "      <td>62917411.0</td>\n",
       "    </tr>\n",
       "    <tr>\n",
       "      <th>2021-12-09 00:00:00-05:00</th>\n",
       "      <td>114.28</td>\n",
       "      <td>114.386</td>\n",
       "      <td>114.12</td>\n",
       "      <td>114.20</td>\n",
       "      <td>8223995.0</td>\n",
       "      <td>468.15</td>\n",
       "      <td>469.6291</td>\n",
       "      <td>466.14</td>\n",
       "      <td>466.34</td>\n",
       "      <td>54963509.0</td>\n",
       "    </tr>\n",
       "    <tr>\n",
       "      <th>2021-12-10 00:00:00-05:00</th>\n",
       "      <td>114.37</td>\n",
       "      <td>114.510</td>\n",
       "      <td>114.22</td>\n",
       "      <td>114.24</td>\n",
       "      <td>6263328.0</td>\n",
       "      <td>469.23</td>\n",
       "      <td>470.9000</td>\n",
       "      <td>466.51</td>\n",
       "      <td>470.72</td>\n",
       "      <td>64958435.0</td>\n",
       "    </tr>\n",
       "    <tr>\n",
       "      <th>2021-12-13 00:00:00-05:00</th>\n",
       "      <td>114.51</td>\n",
       "      <td>114.705</td>\n",
       "      <td>114.46</td>\n",
       "      <td>114.60</td>\n",
       "      <td>4006984.0</td>\n",
       "      <td>470.19</td>\n",
       "      <td>470.5600</td>\n",
       "      <td>466.27</td>\n",
       "      <td>466.61</td>\n",
       "      <td>53533452.0</td>\n",
       "    </tr>\n",
       "    <tr>\n",
       "      <th>2021-12-14 00:00:00-05:00</th>\n",
       "      <td>114.46</td>\n",
       "      <td>114.540</td>\n",
       "      <td>114.26</td>\n",
       "      <td>114.40</td>\n",
       "      <td>3617427.0</td>\n",
       "      <td>463.05</td>\n",
       "      <td>465.7400</td>\n",
       "      <td>460.25</td>\n",
       "      <td>461.28</td>\n",
       "      <td>48930834.0</td>\n",
       "    </tr>\n",
       "  </tbody>\n",
       "</table>\n",
       "</div>"
      ],
      "text/plain": [
       "                              AGG                                         SPY  \\\n",
       "                             open     high     low   close     volume    open   \n",
       "time                                                                            \n",
       "2021-12-08 00:00:00-05:00  114.37  114.370  114.05  114.17  7416826.0  468.70   \n",
       "2021-12-09 00:00:00-05:00  114.28  114.386  114.12  114.20  8223995.0  468.15   \n",
       "2021-12-10 00:00:00-05:00  114.37  114.510  114.22  114.24  6263328.0  469.23   \n",
       "2021-12-13 00:00:00-05:00  114.51  114.705  114.46  114.60  4006984.0  470.19   \n",
       "2021-12-14 00:00:00-05:00  114.46  114.540  114.26  114.40  3617427.0  463.05   \n",
       "\n",
       "                                                                 \n",
       "                               high     low   close      volume  \n",
       "time                                                             \n",
       "2021-12-08 00:00:00-05:00  470.0000  466.83  469.54  62917411.0  \n",
       "2021-12-09 00:00:00-05:00  469.6291  466.14  466.34  54963509.0  \n",
       "2021-12-10 00:00:00-05:00  470.9000  466.51  470.72  64958435.0  \n",
       "2021-12-13 00:00:00-05:00  470.5600  466.27  466.61  53533452.0  \n",
       "2021-12-14 00:00:00-05:00  465.7400  460.25  461.28  48930834.0  "
      ]
     },
     "execution_count": 12,
     "metadata": {},
     "output_type": "execute_result"
    }
   ],
   "source": [
    "# Format current date as ISO format\n",
    "\n",
    "today =  pd.Timestamp(\"2017-12-13\", tz=\"America/New_York\").isoformat()\n",
    "# Set the tickers\n",
    "tickers = [\"AGG\", \"SPY\"]\n",
    "\n",
    "# Set timeframe to '1D' for Alpaca API\n",
    "timeframe = \"1D\"\n",
    "\n",
    "# Get current closing prices for SPY and AGG\n",
    "# (use a limit=1000 parameter to call the most recent 1000 days of data)\n",
    "df_ticker = api.get_barset(\n",
    "    tickers,\n",
    "    timeframe,\n",
    "    start=today,\n",
    "    limit = 1000\n",
    ").df\n",
    "\n",
    "# Preview DataFrame\n",
    "df_ticker.tail()"
   ]
  },
  {
   "cell_type": "code",
   "execution_count": 13,
   "id": "3e48d7c5",
   "metadata": {},
   "outputs": [
    {
     "data": {
      "text/plain": [
       "(1001,)"
      ]
     },
     "execution_count": 13,
     "metadata": {},
     "output_type": "execute_result"
    }
   ],
   "source": [
    "df_ticker.index.shape"
   ]
  },
  {
   "cell_type": "code",
   "execution_count": 14,
   "id": "4bfb0c79",
   "metadata": {},
   "outputs": [
    {
     "name": "stdout",
     "output_type": "stream",
     "text": [
      "Current AGG closing price: $108.88\n",
      "Current SPY closing price: $nan\n"
     ]
    }
   ],
   "source": [
    "# Pick AGG and SPY close prices\n",
    "agg_close_price = df_ticker[\"AGG\"][\"close\"][0] \n",
    "spy_close_price = df_ticker[\"SPY\"][\"close\"][0]\n",
    "\n",
    "# Print AGG and SPY close prices\n",
    "print(f\"Current AGG closing price: ${agg_close_price}\")\n",
    "print(f\"Current SPY closing price: ${spy_close_price}\")"
   ]
  },
  {
   "cell_type": "code",
   "execution_count": 15,
   "id": "1a4df750",
   "metadata": {},
   "outputs": [
    {
     "name": "stdout",
     "output_type": "stream",
     "text": [
      "The current value of your 50 SPY shares is $nan\n",
      "The current value of your 200 AGG shares is $21776.00\n"
     ]
    }
   ],
   "source": [
    "# Compute the current value of shares\n",
    "my_spy_value= spy_close_price * my_spy\n",
    "my_agg_value= agg_close_price * my_agg\n",
    "\n",
    "# Print current value of shares\n",
    "print(f\"The current value of your {my_spy} SPY shares is ${my_spy_value:0.2f}\")\n",
    "print(f\"The current value of your {my_agg} AGG shares is ${my_agg_value:0.2f}\")"
   ]
  },
  {
   "cell_type": "code",
   "execution_count": 29,
   "id": "16cd3d96",
   "metadata": {},
   "outputs": [
    {
     "name": "stdout",
     "output_type": "stream",
     "text": [
      "                amount\n",
      "Cryptocurrency   65108\n",
      "shares           35150\n"
     ]
    }
   ],
   "source": [
    "#SAVINGS HEALTH ANALYSIS\n",
    "# Set monthly household income\n",
    "monthly_household_income = 12000\n",
    "\n",
    "# Consolidate financial assets data\n",
    "Cryptocurrency = BTC_price + ETH_price\n",
    "shares = my_spy_value + my_agg_value\n",
    "\n",
    "# Create savings DataFrame\n",
    "# YOUR CODE HERE!\n",
    "\n",
    "# Display savings DataFrame\n",
    "print(df_savings)"
   ]
  },
  {
   "cell_type": "code",
   "execution_count": 30,
   "id": "a14b6da6",
   "metadata": {},
   "outputs": [
    {
     "name": "stdout",
     "output_type": "stream",
     "text": [
      "64803.377872000005\n",
      "nan\n"
     ]
    }
   ],
   "source": [
    "#Consolidated Financial Data\n",
    "shares = my_spy_value + my_agg_value\n",
    "Cryptocurrency = BTC_price + ETH_price\n",
    "print (Cryptocurrency)\n",
    "print (shares)"
   ]
  },
  {
   "cell_type": "code",
   "execution_count": 31,
   "id": "8f47957b",
   "metadata": {},
   "outputs": [
    {
     "data": {
      "text/html": [
       "<div>\n",
       "<style scoped>\n",
       "    .dataframe tbody tr th:only-of-type {\n",
       "        vertical-align: middle;\n",
       "    }\n",
       "\n",
       "    .dataframe tbody tr th {\n",
       "        vertical-align: top;\n",
       "    }\n",
       "\n",
       "    .dataframe thead th {\n",
       "        text-align: right;\n",
       "    }\n",
       "</style>\n",
       "<table border=\"1\" class=\"dataframe\">\n",
       "  <thead>\n",
       "    <tr style=\"text-align: right;\">\n",
       "      <th></th>\n",
       "      <th>amount</th>\n",
       "    </tr>\n",
       "  </thead>\n",
       "  <tbody>\n",
       "    <tr>\n",
       "      <th>Cryptocurrency</th>\n",
       "      <td>65108</td>\n",
       "    </tr>\n",
       "    <tr>\n",
       "      <th>shares</th>\n",
       "      <td>35150</td>\n",
       "    </tr>\n",
       "  </tbody>\n",
       "</table>\n",
       "</div>"
      ],
      "text/plain": [
       "                amount\n",
       "Cryptocurrency   65108\n",
       "shares           35150"
      ]
     },
     "metadata": {},
     "output_type": "display_data"
    }
   ],
   "source": [
    "#Savings Dataframe\n",
    "# assign data of lists.  \n",
    "data = {\"amount\":[65108, 35150]}  \n",
    "  \n",
    "# Create DataFrame  \n",
    "df_savings = pd.DataFrame(data, index=[\"Cryptocurrency\", \"shares\"])  \n",
    "  \n",
    "# Print the output.  \n",
    "display(df_savings)  "
   ]
  },
  {
   "cell_type": "code",
   "execution_count": 32,
   "id": "c2ff42dd",
   "metadata": {},
   "outputs": [
    {
     "data": {
      "text/plain": [
       "<AxesSubplot:title={'center':'Personal Savings'}, ylabel='amount'>"
      ]
     },
     "execution_count": 32,
     "metadata": {},
     "output_type": "execute_result"
    },
    {
     "data": {
      "image/png": "[encoded data removed]",
      "text/plain": [
       "<Figure size 432x288 with 1 Axes>"
      ]
     },
     "metadata": {},
     "output_type": "display_data"
    }
   ],
   "source": [
    "#Plot savings pie chart\n",
    "df_savings.plot.pie(y=\"amount\", title=\"Personal Savings\")"
   ]
  },
  {
   "cell_type": "code",
   "execution_count": 33,
   "id": "9795209f",
   "metadata": {},
   "outputs": [
    {
     "data": {
      "text/plain": [
       "36000"
      ]
     },
     "execution_count": 33,
     "metadata": {},
     "output_type": "execute_result"
    }
   ],
   "source": [
    "# Set ideal emergency fund\n",
    "emergency_fund = monthly_household_income * 3\n",
    "emergency_fund\n",
    "\n",
    "\n",
    "\n"
   ]
  },
  {
   "cell_type": "code",
   "execution_count": 34,
   "id": "855fa0c4",
   "metadata": {},
   "outputs": [
    {
     "data": {
      "text/plain": [
       "nan"
      ]
     },
     "execution_count": 34,
     "metadata": {},
     "output_type": "execute_result"
    }
   ],
   "source": [
    "#Total Savings\n",
    "Total_savings = Cryptocurrency + shares\n",
    "Total_savings"
   ]
  },
  {
   "cell_type": "code",
   "execution_count": 35,
   "id": "8e5242df",
   "metadata": {},
   "outputs": [
    {
     "name": "stdout",
     "output_type": "stream",
     "text": [
      "Emergency fund is secure\n"
     ]
    }
   ],
   "source": [
    "#Validate emergency fund\n",
    "a = emergency_fund\n",
    "a = 36000\n",
    "\n",
    "if a > 35999:\n",
    "  print(\"Emergency fund is secure\")"
   ]
  },
  {
   "cell_type": "code",
   "execution_count": 36,
   "id": "9123c49d",
   "metadata": {},
   "outputs": [],
   "source": [
    "#2-MONTE CARLO SIMULATION-RETIREMENT PLANNING\n",
    "# Set start and end dates of five years back from today.\n",
    "# Sample results may vary from the solution based on the time frame chosen\n",
    "start_date = pd.Timestamp('2016-05-01', tz='America/New_York').isoformat()\n",
    "end_date = pd.Timestamp('2021-05-01', tz='America/New_York').isoformat()"
   ]
  },
  {
   "cell_type": "code",
   "execution_count": 37,
   "id": "a3791e53",
   "metadata": {},
   "outputs": [
    {
     "data": {
      "text/html": [
       "<div>\n",
       "<style scoped>\n",
       "    .dataframe tbody tr th:only-of-type {\n",
       "        vertical-align: middle;\n",
       "    }\n",
       "\n",
       "    .dataframe tbody tr th {\n",
       "        vertical-align: top;\n",
       "    }\n",
       "\n",
       "    .dataframe thead tr th {\n",
       "        text-align: left;\n",
       "    }\n",
       "\n",
       "    .dataframe thead tr:last-of-type th {\n",
       "        text-align: right;\n",
       "    }\n",
       "</style>\n",
       "<table border=\"1\" class=\"dataframe\">\n",
       "  <thead>\n",
       "    <tr>\n",
       "      <th></th>\n",
       "      <th colspan=\"5\" halign=\"left\">AGG</th>\n",
       "      <th colspan=\"5\" halign=\"left\">SPY</th>\n",
       "    </tr>\n",
       "    <tr>\n",
       "      <th></th>\n",
       "      <th>open</th>\n",
       "      <th>high</th>\n",
       "      <th>low</th>\n",
       "      <th>close</th>\n",
       "      <th>volume</th>\n",
       "      <th>open</th>\n",
       "      <th>high</th>\n",
       "      <th>low</th>\n",
       "      <th>close</th>\n",
       "      <th>volume</th>\n",
       "    </tr>\n",
       "    <tr>\n",
       "      <th>time</th>\n",
       "      <th></th>\n",
       "      <th></th>\n",
       "      <th></th>\n",
       "      <th></th>\n",
       "      <th></th>\n",
       "      <th></th>\n",
       "      <th></th>\n",
       "      <th></th>\n",
       "      <th></th>\n",
       "      <th></th>\n",
       "    </tr>\n",
       "  </thead>\n",
       "  <tbody>\n",
       "    <tr>\n",
       "      <th>2017-05-10 00:00:00-04:00</th>\n",
       "      <td>108.60</td>\n",
       "      <td>108.660</td>\n",
       "      <td>108.4400</td>\n",
       "      <td>108.520</td>\n",
       "      <td>1427511.0</td>\n",
       "      <td>NaN</td>\n",
       "      <td>NaN</td>\n",
       "      <td>NaN</td>\n",
       "      <td>NaN</td>\n",
       "      <td>NaN</td>\n",
       "    </tr>\n",
       "    <tr>\n",
       "      <th>2017-05-11 00:00:00-04:00</th>\n",
       "      <td>108.35</td>\n",
       "      <td>108.540</td>\n",
       "      <td>108.3435</td>\n",
       "      <td>108.515</td>\n",
       "      <td>1773499.0</td>\n",
       "      <td>239.35</td>\n",
       "      <td>239.57</td>\n",
       "      <td>238.13</td>\n",
       "      <td>239.410</td>\n",
       "      <td>45435690.0</td>\n",
       "    </tr>\n",
       "    <tr>\n",
       "      <th>2017-05-12 00:00:00-04:00</th>\n",
       "      <td>108.81</td>\n",
       "      <td>108.940</td>\n",
       "      <td>108.7800</td>\n",
       "      <td>108.920</td>\n",
       "      <td>1136553.0</td>\n",
       "      <td>239.09</td>\n",
       "      <td>239.21</td>\n",
       "      <td>238.67</td>\n",
       "      <td>239.030</td>\n",
       "      <td>35283567.0</td>\n",
       "    </tr>\n",
       "    <tr>\n",
       "      <th>2017-05-15 00:00:00-04:00</th>\n",
       "      <td>108.85</td>\n",
       "      <td>108.940</td>\n",
       "      <td>108.8200</td>\n",
       "      <td>108.890</td>\n",
       "      <td>1620264.0</td>\n",
       "      <td>239.47</td>\n",
       "      <td>240.44</td>\n",
       "      <td>239.45</td>\n",
       "      <td>240.245</td>\n",
       "      <td>42230620.0</td>\n",
       "    </tr>\n",
       "    <tr>\n",
       "      <th>2017-05-16 00:00:00-04:00</th>\n",
       "      <td>108.88</td>\n",
       "      <td>109.101</td>\n",
       "      <td>108.8800</td>\n",
       "      <td>109.000</td>\n",
       "      <td>1394153.0</td>\n",
       "      <td>240.62</td>\n",
       "      <td>240.67</td>\n",
       "      <td>239.63</td>\n",
       "      <td>240.100</td>\n",
       "      <td>37206183.0</td>\n",
       "    </tr>\n",
       "  </tbody>\n",
       "</table>\n",
       "</div>"
      ],
      "text/plain": [
       "                              AGG                                         \\\n",
       "                             open     high       low    close     volume   \n",
       "time                                                                       \n",
       "2017-05-10 00:00:00-04:00  108.60  108.660  108.4400  108.520  1427511.0   \n",
       "2017-05-11 00:00:00-04:00  108.35  108.540  108.3435  108.515  1773499.0   \n",
       "2017-05-12 00:00:00-04:00  108.81  108.940  108.7800  108.920  1136553.0   \n",
       "2017-05-15 00:00:00-04:00  108.85  108.940  108.8200  108.890  1620264.0   \n",
       "2017-05-16 00:00:00-04:00  108.88  109.101  108.8800  109.000  1394153.0   \n",
       "\n",
       "                              SPY                                       \n",
       "                             open    high     low    close      volume  \n",
       "time                                                                    \n",
       "2017-05-10 00:00:00-04:00     NaN     NaN     NaN      NaN         NaN  \n",
       "2017-05-11 00:00:00-04:00  239.35  239.57  238.13  239.410  45435690.0  \n",
       "2017-05-12 00:00:00-04:00  239.09  239.21  238.67  239.030  35283567.0  \n",
       "2017-05-15 00:00:00-04:00  239.47  240.44  239.45  240.245  42230620.0  \n",
       "2017-05-16 00:00:00-04:00  240.62  240.67  239.63  240.100  37206183.0  "
      ]
     },
     "execution_count": 37,
     "metadata": {},
     "output_type": "execute_result"
    }
   ],
   "source": [
    "# Get 5 years' worth of historical data for SPY and AGG\n",
    "# (use a limit=1000 parameter to call the most recent 1000 days of data)\n",
    "df_stock_data = api.get_barset(\n",
    "    tickers,\n",
    "    timeframe,\n",
    "    start = start_date,\n",
    "    end = end_date,\n",
    "    limit = 1000\n",
    ").df\n",
    "\n",
    "\n",
    "# Display sample data\n",
    "df_stock_data.head()"
   ]
  },
  {
   "cell_type": "code",
   "execution_count": 38,
   "id": "85c89df5",
   "metadata": {},
   "outputs": [],
   "source": [
    "# Configuring a Monte Carlo simulation to forecast 30 years cumulative returns\n",
    "MC_even_dist = MCSimulation(\n",
    "    portfolio_data = df_stock_data,\n",
    "    weights = [.6,.4],\n",
    "    num_simulation = 500,\n",
    "    num_trading_days = 252*30\n",
    ")\n"
   ]
  },
  {
   "cell_type": "code",
   "execution_count": 39,
   "id": "b77e6752",
   "metadata": {},
   "outputs": [
    {
     "data": {
      "text/html": [
       "<div>\n",
       "<style scoped>\n",
       "    .dataframe tbody tr th:only-of-type {\n",
       "        vertical-align: middle;\n",
       "    }\n",
       "\n",
       "    .dataframe tbody tr th {\n",
       "        vertical-align: top;\n",
       "    }\n",
       "\n",
       "    .dataframe thead tr th {\n",
       "        text-align: left;\n",
       "    }\n",
       "\n",
       "    .dataframe thead tr:last-of-type th {\n",
       "        text-align: right;\n",
       "    }\n",
       "</style>\n",
       "<table border=\"1\" class=\"dataframe\">\n",
       "  <thead>\n",
       "    <tr>\n",
       "      <th></th>\n",
       "      <th colspan=\"6\" halign=\"left\">AGG</th>\n",
       "      <th colspan=\"6\" halign=\"left\">SPY</th>\n",
       "    </tr>\n",
       "    <tr>\n",
       "      <th></th>\n",
       "      <th>open</th>\n",
       "      <th>high</th>\n",
       "      <th>low</th>\n",
       "      <th>close</th>\n",
       "      <th>volume</th>\n",
       "      <th>daily_return</th>\n",
       "      <th>open</th>\n",
       "      <th>high</th>\n",
       "      <th>low</th>\n",
       "      <th>close</th>\n",
       "      <th>volume</th>\n",
       "      <th>daily_return</th>\n",
       "    </tr>\n",
       "    <tr>\n",
       "      <th>time</th>\n",
       "      <th></th>\n",
       "      <th></th>\n",
       "      <th></th>\n",
       "      <th></th>\n",
       "      <th></th>\n",
       "      <th></th>\n",
       "      <th></th>\n",
       "      <th></th>\n",
       "      <th></th>\n",
       "      <th></th>\n",
       "      <th></th>\n",
       "      <th></th>\n",
       "    </tr>\n",
       "  </thead>\n",
       "  <tbody>\n",
       "    <tr>\n",
       "      <th>2017-05-10 00:00:00-04:00</th>\n",
       "      <td>108.60</td>\n",
       "      <td>108.660</td>\n",
       "      <td>108.4400</td>\n",
       "      <td>108.520</td>\n",
       "      <td>1427511.0</td>\n",
       "      <td>NaN</td>\n",
       "      <td>NaN</td>\n",
       "      <td>NaN</td>\n",
       "      <td>NaN</td>\n",
       "      <td>NaN</td>\n",
       "      <td>NaN</td>\n",
       "      <td>NaN</td>\n",
       "    </tr>\n",
       "    <tr>\n",
       "      <th>2017-05-11 00:00:00-04:00</th>\n",
       "      <td>108.35</td>\n",
       "      <td>108.540</td>\n",
       "      <td>108.3435</td>\n",
       "      <td>108.515</td>\n",
       "      <td>1773499.0</td>\n",
       "      <td>-0.000046</td>\n",
       "      <td>239.35</td>\n",
       "      <td>239.57</td>\n",
       "      <td>238.13</td>\n",
       "      <td>239.410</td>\n",
       "      <td>45435690.0</td>\n",
       "      <td>NaN</td>\n",
       "    </tr>\n",
       "    <tr>\n",
       "      <th>2017-05-12 00:00:00-04:00</th>\n",
       "      <td>108.81</td>\n",
       "      <td>108.940</td>\n",
       "      <td>108.7800</td>\n",
       "      <td>108.920</td>\n",
       "      <td>1136553.0</td>\n",
       "      <td>0.003732</td>\n",
       "      <td>239.09</td>\n",
       "      <td>239.21</td>\n",
       "      <td>238.67</td>\n",
       "      <td>239.030</td>\n",
       "      <td>35283567.0</td>\n",
       "      <td>-0.001587</td>\n",
       "    </tr>\n",
       "    <tr>\n",
       "      <th>2017-05-15 00:00:00-04:00</th>\n",
       "      <td>108.85</td>\n",
       "      <td>108.940</td>\n",
       "      <td>108.8200</td>\n",
       "      <td>108.890</td>\n",
       "      <td>1620264.0</td>\n",
       "      <td>-0.000275</td>\n",
       "      <td>239.47</td>\n",
       "      <td>240.44</td>\n",
       "      <td>239.45</td>\n",
       "      <td>240.245</td>\n",
       "      <td>42230620.0</td>\n",
       "      <td>0.005083</td>\n",
       "    </tr>\n",
       "    <tr>\n",
       "      <th>2017-05-16 00:00:00-04:00</th>\n",
       "      <td>108.88</td>\n",
       "      <td>109.101</td>\n",
       "      <td>108.8800</td>\n",
       "      <td>109.000</td>\n",
       "      <td>1394153.0</td>\n",
       "      <td>0.001010</td>\n",
       "      <td>240.62</td>\n",
       "      <td>240.67</td>\n",
       "      <td>239.63</td>\n",
       "      <td>240.100</td>\n",
       "      <td>37206183.0</td>\n",
       "      <td>-0.000604</td>\n",
       "    </tr>\n",
       "  </tbody>\n",
       "</table>\n",
       "</div>"
      ],
      "text/plain": [
       "                              AGG                                         \\\n",
       "                             open     high       low    close     volume   \n",
       "time                                                                       \n",
       "2017-05-10 00:00:00-04:00  108.60  108.660  108.4400  108.520  1427511.0   \n",
       "2017-05-11 00:00:00-04:00  108.35  108.540  108.3435  108.515  1773499.0   \n",
       "2017-05-12 00:00:00-04:00  108.81  108.940  108.7800  108.920  1136553.0   \n",
       "2017-05-15 00:00:00-04:00  108.85  108.940  108.8200  108.890  1620264.0   \n",
       "2017-05-16 00:00:00-04:00  108.88  109.101  108.8800  109.000  1394153.0   \n",
       "\n",
       "                                           SPY                           \\\n",
       "                          daily_return    open    high     low    close   \n",
       "time                                                                      \n",
       "2017-05-10 00:00:00-04:00          NaN     NaN     NaN     NaN      NaN   \n",
       "2017-05-11 00:00:00-04:00    -0.000046  239.35  239.57  238.13  239.410   \n",
       "2017-05-12 00:00:00-04:00     0.003732  239.09  239.21  238.67  239.030   \n",
       "2017-05-15 00:00:00-04:00    -0.000275  239.47  240.44  239.45  240.245   \n",
       "2017-05-16 00:00:00-04:00     0.001010  240.62  240.67  239.63  240.100   \n",
       "\n",
       "                                                    \n",
       "                               volume daily_return  \n",
       "time                                                \n",
       "2017-05-10 00:00:00-04:00         NaN          NaN  \n",
       "2017-05-11 00:00:00-04:00  45435690.0          NaN  \n",
       "2017-05-12 00:00:00-04:00  35283567.0    -0.001587  \n",
       "2017-05-15 00:00:00-04:00  42230620.0     0.005083  \n",
       "2017-05-16 00:00:00-04:00  37206183.0    -0.000604  "
      ]
     },
     "execution_count": 39,
     "metadata": {},
     "output_type": "execute_result"
    }
   ],
   "source": [
    "# Printing the simulation input data\n",
    "MC_even_dist.portfolio_data.head()"
   ]
  },
  {
   "cell_type": "code",
   "execution_count": null,
   "id": "0c0a362f",
   "metadata": {},
   "outputs": [],
   "source": []
  },
  {
   "cell_type": "code",
   "execution_count": 40,
   "id": "b7ef7103",
   "metadata": {},
   "outputs": [
    {
     "name": "stdout",
     "output_type": "stream",
     "text": [
      "Running Monte Carlo simulation number 0.\n",
      "Running Monte Carlo simulation number 10.\n",
      "Running Monte Carlo simulation number 20.\n",
      "Running Monte Carlo simulation number 30.\n",
      "Running Monte Carlo simulation number 40.\n",
      "Running Monte Carlo simulation number 50.\n",
      "Running Monte Carlo simulation number 60.\n",
      "Running Monte Carlo simulation number 70.\n",
      "Running Monte Carlo simulation number 80.\n",
      "Running Monte Carlo simulation number 90.\n",
      "Running Monte Carlo simulation number 100.\n"
     ]
    },
    {
     "name": "stderr",
     "output_type": "stream",
     "text": [
      "/Users/khalidromain/Api_homework/MCForecastTools.py:117: PerformanceWarning: DataFrame is highly fragmented.  This is usually the result of calling `frame.insert` many times, which has poor performance.  Consider joining all columns at once using pd.concat(axis=1) instead.  To get a de-fragmented frame, use `newframe = frame.copy()`\n",
      "  portfolio_cumulative_returns[n] = (1 + sim_df.fillna(0)).cumprod()\n"
     ]
    },
    {
     "name": "stdout",
     "output_type": "stream",
     "text": [
      "Running Monte Carlo simulation number 110.\n",
      "Running Monte Carlo simulation number 120.\n",
      "Running Monte Carlo simulation number 130.\n",
      "Running Monte Carlo simulation number 140.\n",
      "Running Monte Carlo simulation number 150.\n",
      "Running Monte Carlo simulation number 160.\n",
      "Running Monte Carlo simulation number 170.\n",
      "Running Monte Carlo simulation number 180.\n",
      "Running Monte Carlo simulation number 190.\n",
      "Running Monte Carlo simulation number 200.\n",
      "Running Monte Carlo simulation number 210.\n",
      "Running Monte Carlo simulation number 220.\n",
      "Running Monte Carlo simulation number 230.\n",
      "Running Monte Carlo simulation number 240.\n",
      "Running Monte Carlo simulation number 250.\n",
      "Running Monte Carlo simulation number 260.\n",
      "Running Monte Carlo simulation number 270.\n",
      "Running Monte Carlo simulation number 280.\n",
      "Running Monte Carlo simulation number 290.\n",
      "Running Monte Carlo simulation number 300.\n",
      "Running Monte Carlo simulation number 310.\n",
      "Running Monte Carlo simulation number 320.\n",
      "Running Monte Carlo simulation number 330.\n",
      "Running Monte Carlo simulation number 340.\n",
      "Running Monte Carlo simulation number 350.\n",
      "Running Monte Carlo simulation number 360.\n",
      "Running Monte Carlo simulation number 370.\n",
      "Running Monte Carlo simulation number 380.\n",
      "Running Monte Carlo simulation number 390.\n",
      "Running Monte Carlo simulation number 400.\n",
      "Running Monte Carlo simulation number 410.\n",
      "Running Monte Carlo simulation number 420.\n",
      "Running Monte Carlo simulation number 430.\n",
      "Running Monte Carlo simulation number 440.\n",
      "Running Monte Carlo simulation number 450.\n",
      "Running Monte Carlo simulation number 460.\n",
      "Running Monte Carlo simulation number 470.\n",
      "Running Monte Carlo simulation number 480.\n",
      "Running Monte Carlo simulation number 490.\n"
     ]
    },
    {
     "data": {
      "text/html": [
       "<div>\n",
       "<style scoped>\n",
       "    .dataframe tbody tr th:only-of-type {\n",
       "        vertical-align: middle;\n",
       "    }\n",
       "\n",
       "    .dataframe tbody tr th {\n",
       "        vertical-align: top;\n",
       "    }\n",
       "\n",
       "    .dataframe thead th {\n",
       "        text-align: right;\n",
       "    }\n",
       "</style>\n",
       "<table border=\"1\" class=\"dataframe\">\n",
       "  <thead>\n",
       "    <tr style=\"text-align: right;\">\n",
       "      <th></th>\n",
       "      <th>0</th>\n",
       "      <th>1</th>\n",
       "      <th>2</th>\n",
       "      <th>3</th>\n",
       "      <th>4</th>\n",
       "      <th>5</th>\n",
       "      <th>6</th>\n",
       "      <th>7</th>\n",
       "      <th>8</th>\n",
       "      <th>9</th>\n",
       "      <th>...</th>\n",
       "      <th>490</th>\n",
       "      <th>491</th>\n",
       "      <th>492</th>\n",
       "      <th>493</th>\n",
       "      <th>494</th>\n",
       "      <th>495</th>\n",
       "      <th>496</th>\n",
       "      <th>497</th>\n",
       "      <th>498</th>\n",
       "      <th>499</th>\n",
       "    </tr>\n",
       "  </thead>\n",
       "  <tbody>\n",
       "    <tr>\n",
       "      <th>0</th>\n",
       "      <td>1.000000</td>\n",
       "      <td>1.000000</td>\n",
       "      <td>1.000000</td>\n",
       "      <td>1.000000</td>\n",
       "      <td>1.000000</td>\n",
       "      <td>1.000000</td>\n",
       "      <td>1.000000</td>\n",
       "      <td>1.000000</td>\n",
       "      <td>1.000000</td>\n",
       "      <td>1.000000</td>\n",
       "      <td>...</td>\n",
       "      <td>1.000000</td>\n",
       "      <td>1.000000</td>\n",
       "      <td>1.000000</td>\n",
       "      <td>1.000000</td>\n",
       "      <td>1.000000</td>\n",
       "      <td>1.000000</td>\n",
       "      <td>1.000000</td>\n",
       "      <td>1.000000</td>\n",
       "      <td>1.000000</td>\n",
       "      <td>1.000000</td>\n",
       "    </tr>\n",
       "    <tr>\n",
       "      <th>1</th>\n",
       "      <td>0.994333</td>\n",
       "      <td>1.001064</td>\n",
       "      <td>1.000600</td>\n",
       "      <td>0.992161</td>\n",
       "      <td>1.005164</td>\n",
       "      <td>1.001691</td>\n",
       "      <td>0.997685</td>\n",
       "      <td>1.000214</td>\n",
       "      <td>1.009056</td>\n",
       "      <td>0.999045</td>\n",
       "      <td>...</td>\n",
       "      <td>0.997952</td>\n",
       "      <td>1.001608</td>\n",
       "      <td>1.012686</td>\n",
       "      <td>0.999453</td>\n",
       "      <td>1.007187</td>\n",
       "      <td>1.000091</td>\n",
       "      <td>0.996112</td>\n",
       "      <td>0.994821</td>\n",
       "      <td>1.008173</td>\n",
       "      <td>0.998817</td>\n",
       "    </tr>\n",
       "    <tr>\n",
       "      <th>2</th>\n",
       "      <td>0.986498</td>\n",
       "      <td>1.006223</td>\n",
       "      <td>1.007391</td>\n",
       "      <td>0.993409</td>\n",
       "      <td>0.999396</td>\n",
       "      <td>0.997814</td>\n",
       "      <td>1.006583</td>\n",
       "      <td>1.005802</td>\n",
       "      <td>1.004122</td>\n",
       "      <td>0.994237</td>\n",
       "      <td>...</td>\n",
       "      <td>1.003001</td>\n",
       "      <td>1.002993</td>\n",
       "      <td>1.018930</td>\n",
       "      <td>0.992674</td>\n",
       "      <td>1.017377</td>\n",
       "      <td>1.001091</td>\n",
       "      <td>0.998244</td>\n",
       "      <td>0.991082</td>\n",
       "      <td>1.020865</td>\n",
       "      <td>0.997335</td>\n",
       "    </tr>\n",
       "    <tr>\n",
       "      <th>3</th>\n",
       "      <td>0.985811</td>\n",
       "      <td>1.014904</td>\n",
       "      <td>1.008937</td>\n",
       "      <td>0.993542</td>\n",
       "      <td>0.999521</td>\n",
       "      <td>1.000129</td>\n",
       "      <td>1.005372</td>\n",
       "      <td>1.008125</td>\n",
       "      <td>1.003344</td>\n",
       "      <td>0.998113</td>\n",
       "      <td>...</td>\n",
       "      <td>1.001782</td>\n",
       "      <td>0.997176</td>\n",
       "      <td>1.016443</td>\n",
       "      <td>0.983142</td>\n",
       "      <td>1.018292</td>\n",
       "      <td>1.007941</td>\n",
       "      <td>0.997991</td>\n",
       "      <td>0.998546</td>\n",
       "      <td>1.018472</td>\n",
       "      <td>0.992362</td>\n",
       "    </tr>\n",
       "    <tr>\n",
       "      <th>4</th>\n",
       "      <td>0.979668</td>\n",
       "      <td>1.011463</td>\n",
       "      <td>1.015425</td>\n",
       "      <td>0.991741</td>\n",
       "      <td>0.996733</td>\n",
       "      <td>0.991843</td>\n",
       "      <td>1.000451</td>\n",
       "      <td>1.013260</td>\n",
       "      <td>0.997733</td>\n",
       "      <td>0.991741</td>\n",
       "      <td>...</td>\n",
       "      <td>1.002930</td>\n",
       "      <td>0.999659</td>\n",
       "      <td>1.013622</td>\n",
       "      <td>0.986035</td>\n",
       "      <td>1.019002</td>\n",
       "      <td>1.009102</td>\n",
       "      <td>0.999503</td>\n",
       "      <td>0.999888</td>\n",
       "      <td>1.025360</td>\n",
       "      <td>0.991746</td>\n",
       "    </tr>\n",
       "    <tr>\n",
       "      <th>...</th>\n",
       "      <td>...</td>\n",
       "      <td>...</td>\n",
       "      <td>...</td>\n",
       "      <td>...</td>\n",
       "      <td>...</td>\n",
       "      <td>...</td>\n",
       "      <td>...</td>\n",
       "      <td>...</td>\n",
       "      <td>...</td>\n",
       "      <td>...</td>\n",
       "      <td>...</td>\n",
       "      <td>...</td>\n",
       "      <td>...</td>\n",
       "      <td>...</td>\n",
       "      <td>...</td>\n",
       "      <td>...</td>\n",
       "      <td>...</td>\n",
       "      <td>...</td>\n",
       "      <td>...</td>\n",
       "      <td>...</td>\n",
       "      <td>...</td>\n",
       "    </tr>\n",
       "    <tr>\n",
       "      <th>7556</th>\n",
       "      <td>7.542130</td>\n",
       "      <td>6.085754</td>\n",
       "      <td>8.748289</td>\n",
       "      <td>14.513613</td>\n",
       "      <td>9.645624</td>\n",
       "      <td>11.760240</td>\n",
       "      <td>6.661799</td>\n",
       "      <td>7.929891</td>\n",
       "      <td>4.453212</td>\n",
       "      <td>9.731004</td>\n",
       "      <td>...</td>\n",
       "      <td>7.085026</td>\n",
       "      <td>6.913839</td>\n",
       "      <td>3.807228</td>\n",
       "      <td>4.188240</td>\n",
       "      <td>8.335887</td>\n",
       "      <td>8.983319</td>\n",
       "      <td>9.715544</td>\n",
       "      <td>2.891114</td>\n",
       "      <td>6.802750</td>\n",
       "      <td>11.414856</td>\n",
       "    </tr>\n",
       "    <tr>\n",
       "      <th>7557</th>\n",
       "      <td>7.511816</td>\n",
       "      <td>6.102135</td>\n",
       "      <td>8.643710</td>\n",
       "      <td>14.545970</td>\n",
       "      <td>9.673108</td>\n",
       "      <td>11.781283</td>\n",
       "      <td>6.677225</td>\n",
       "      <td>7.926389</td>\n",
       "      <td>4.405801</td>\n",
       "      <td>9.695473</td>\n",
       "      <td>...</td>\n",
       "      <td>7.065971</td>\n",
       "      <td>6.911672</td>\n",
       "      <td>3.793856</td>\n",
       "      <td>4.217636</td>\n",
       "      <td>8.325428</td>\n",
       "      <td>9.034972</td>\n",
       "      <td>9.714369</td>\n",
       "      <td>2.864808</td>\n",
       "      <td>6.789768</td>\n",
       "      <td>11.470645</td>\n",
       "    </tr>\n",
       "    <tr>\n",
       "      <th>7558</th>\n",
       "      <td>7.468562</td>\n",
       "      <td>6.087635</td>\n",
       "      <td>8.643670</td>\n",
       "      <td>14.647173</td>\n",
       "      <td>9.659312</td>\n",
       "      <td>11.825360</td>\n",
       "      <td>6.684364</td>\n",
       "      <td>7.900944</td>\n",
       "      <td>4.430135</td>\n",
       "      <td>9.775654</td>\n",
       "      <td>...</td>\n",
       "      <td>6.962300</td>\n",
       "      <td>6.969762</td>\n",
       "      <td>3.819795</td>\n",
       "      <td>4.191968</td>\n",
       "      <td>8.305384</td>\n",
       "      <td>9.036107</td>\n",
       "      <td>9.743786</td>\n",
       "      <td>2.866827</td>\n",
       "      <td>6.768132</td>\n",
       "      <td>11.419533</td>\n",
       "    </tr>\n",
       "    <tr>\n",
       "      <th>7559</th>\n",
       "      <td>7.533655</td>\n",
       "      <td>6.095058</td>\n",
       "      <td>8.781343</td>\n",
       "      <td>14.672117</td>\n",
       "      <td>9.636097</td>\n",
       "      <td>11.845778</td>\n",
       "      <td>6.731565</td>\n",
       "      <td>7.824921</td>\n",
       "      <td>4.433351</td>\n",
       "      <td>9.806772</td>\n",
       "      <td>...</td>\n",
       "      <td>7.038494</td>\n",
       "      <td>6.929787</td>\n",
       "      <td>3.822714</td>\n",
       "      <td>4.149240</td>\n",
       "      <td>8.328149</td>\n",
       "      <td>8.938541</td>\n",
       "      <td>9.693106</td>\n",
       "      <td>2.835395</td>\n",
       "      <td>6.721227</td>\n",
       "      <td>11.549808</td>\n",
       "    </tr>\n",
       "    <tr>\n",
       "      <th>7560</th>\n",
       "      <td>7.581440</td>\n",
       "      <td>6.086586</td>\n",
       "      <td>8.869909</td>\n",
       "      <td>14.719456</td>\n",
       "      <td>9.580026</td>\n",
       "      <td>11.895458</td>\n",
       "      <td>6.730261</td>\n",
       "      <td>7.810253</td>\n",
       "      <td>4.405511</td>\n",
       "      <td>9.837088</td>\n",
       "      <td>...</td>\n",
       "      <td>7.040576</td>\n",
       "      <td>6.949581</td>\n",
       "      <td>3.810142</td>\n",
       "      <td>4.140939</td>\n",
       "      <td>8.266374</td>\n",
       "      <td>8.900521</td>\n",
       "      <td>9.718976</td>\n",
       "      <td>2.839966</td>\n",
       "      <td>6.722988</td>\n",
       "      <td>11.600936</td>\n",
       "    </tr>\n",
       "  </tbody>\n",
       "</table>\n",
       "<p>7561 rows × 500 columns</p>\n",
       "</div>"
      ],
      "text/plain": [
       "           0         1         2          3         4          5         6    \\\n",
       "0     1.000000  1.000000  1.000000   1.000000  1.000000   1.000000  1.000000   \n",
       "1     0.994333  1.001064  1.000600   0.992161  1.005164   1.001691  0.997685   \n",
       "2     0.986498  1.006223  1.007391   0.993409  0.999396   0.997814  1.006583   \n",
       "3     0.985811  1.014904  1.008937   0.993542  0.999521   1.000129  1.005372   \n",
       "4     0.979668  1.011463  1.015425   0.991741  0.996733   0.991843  1.000451   \n",
       "...        ...       ...       ...        ...       ...        ...       ...   \n",
       "7556  7.542130  6.085754  8.748289  14.513613  9.645624  11.760240  6.661799   \n",
       "7557  7.511816  6.102135  8.643710  14.545970  9.673108  11.781283  6.677225   \n",
       "7558  7.468562  6.087635  8.643670  14.647173  9.659312  11.825360  6.684364   \n",
       "7559  7.533655  6.095058  8.781343  14.672117  9.636097  11.845778  6.731565   \n",
       "7560  7.581440  6.086586  8.869909  14.719456  9.580026  11.895458  6.730261   \n",
       "\n",
       "           7         8         9    ...       490       491       492  \\\n",
       "0     1.000000  1.000000  1.000000  ...  1.000000  1.000000  1.000000   \n",
       "1     1.000214  1.009056  0.999045  ...  0.997952  1.001608  1.012686   \n",
       "2     1.005802  1.004122  0.994237  ...  1.003001  1.002993  1.018930   \n",
       "3     1.008125  1.003344  0.998113  ...  1.001782  0.997176  1.016443   \n",
       "4     1.013260  0.997733  0.991741  ...  1.002930  0.999659  1.013622   \n",
       "...        ...       ...       ...  ...       ...       ...       ...   \n",
       "7556  7.929891  4.453212  9.731004  ...  7.085026  6.913839  3.807228   \n",
       "7557  7.926389  4.405801  9.695473  ...  7.065971  6.911672  3.793856   \n",
       "7558  7.900944  4.430135  9.775654  ...  6.962300  6.969762  3.819795   \n",
       "7559  7.824921  4.433351  9.806772  ...  7.038494  6.929787  3.822714   \n",
       "7560  7.810253  4.405511  9.837088  ...  7.040576  6.949581  3.810142   \n",
       "\n",
       "           493       494       495       496       497       498        499  \n",
       "0     1.000000  1.000000  1.000000  1.000000  1.000000  1.000000   1.000000  \n",
       "1     0.999453  1.007187  1.000091  0.996112  0.994821  1.008173   0.998817  \n",
       "2     0.992674  1.017377  1.001091  0.998244  0.991082  1.020865   0.997335  \n",
       "3     0.983142  1.018292  1.007941  0.997991  0.998546  1.018472   0.992362  \n",
       "4     0.986035  1.019002  1.009102  0.999503  0.999888  1.025360   0.991746  \n",
       "...        ...       ...       ...       ...       ...       ...        ...  \n",
       "7556  4.188240  8.335887  8.983319  9.715544  2.891114  6.802750  11.414856  \n",
       "7557  4.217636  8.325428  9.034972  9.714369  2.864808  6.789768  11.470645  \n",
       "7558  4.191968  8.305384  9.036107  9.743786  2.866827  6.768132  11.419533  \n",
       "7559  4.149240  8.328149  8.938541  9.693106  2.835395  6.721227  11.549808  \n",
       "7560  4.140939  8.266374  8.900521  9.718976  2.839966  6.722988  11.600936  \n",
       "\n",
       "[7561 rows x 500 columns]"
      ]
     },
     "execution_count": 40,
     "metadata": {},
     "output_type": "execute_result"
    }
   ],
   "source": [
    "# Running a Monte Carlo simulation to forecast 30 years cumulative returns\n",
    "MC_even_dist.calc_cumulative_return()\n",
    "\n",
    "\n",
    "\n"
   ]
  },
  {
   "cell_type": "code",
   "execution_count": 41,
   "id": "e5e45d41",
   "metadata": {},
   "outputs": [
    {
     "data": {
      "image/png": "[encoded data removed]",
      "text/plain": [
       "<Figure size 432x288 with 1 Axes>"
      ]
     },
     "metadata": {
      "needs_background": "light"
     },
     "output_type": "display_data"
    }
   ],
   "source": [
    "# Plot simulation outcomes\n",
    "line_plot = MC_even_dist.plot_simulation()"
   ]
  },
  {
   "cell_type": "code",
   "execution_count": 42,
   "id": "404f7ada",
   "metadata": {},
   "outputs": [
    {
     "data": {
      "image/png": "[encoded data removed]",
      "text/plain": [
       "<Figure size 432x288 with 1 Axes>"
      ]
     },
     "metadata": {
      "needs_background": "light"
     },
     "output_type": "display_data"
    }
   ],
   "source": [
    "# Plot probability distribution and confidence intervals\n",
    "dist_plot = MC_even_dist.plot_distribution()"
   ]
  },
  {
   "cell_type": "code",
   "execution_count": 43,
   "id": "20f24a7b",
   "metadata": {},
   "outputs": [
    {
     "name": "stdout",
     "output_type": "stream",
     "text": [
      "count           500.000000\n",
      "mean              9.091416\n",
      "std               4.555249\n",
      "min               2.303532\n",
      "25%               5.786870\n",
      "50%               8.202915\n",
      "75%              11.589276\n",
      "max              28.615371\n",
      "95% CI Lower      2.960669\n",
      "95% CI Upper     21.127187\n",
      "Name: 7560, dtype: float64\n"
     ]
    }
   ],
   "source": [
    "# Fetch summary statistics from the Monte Carlo simulation results\n",
    "even_tbl = MC_even_dist.summarize_cumulative_return()\n",
    "\n",
    "# Print summary statistics\n",
    "print(even_tbl)"
   ]
  },
  {
   "cell_type": "code",
   "execution_count": 44,
   "id": "65f5b7ee",
   "metadata": {},
   "outputs": [
    {
     "name": "stdout",
     "output_type": "stream",
     "text": [
      "There is a 95% chance that an initial investment of $20000 in the portfolio over the next 30 years will end within in the range of $59213.38 and $422543.75\n"
     ]
    }
   ],
   "source": [
    " #Set initial investment\n",
    "initial_investment = 20000\n",
    "\n",
    "# Use the lower and upper `95%` confidence intervals to calculate the range of the possible outcomes of our $20,000\n",
    "ci_lower = round(even_tbl[8]*20000,2)\n",
    "ci_upper = round(even_tbl[9]*20000,2)\n",
    "\n",
    "# Print results\n",
    "print(f\"There is a 95% chance that an initial investment of ${initial_investment} in the portfolio\"\n",
    "      f\" over the next 30 years will end within in the range of\"\n",
    "      f\" ${ci_lower} and ${ci_upper}\")"
   ]
  },
  {
   "cell_type": "code",
   "execution_count": 45,
   "id": "b4d9c2bc",
   "metadata": {},
   "outputs": [
    {
     "name": "stdout",
     "output_type": "stream",
     "text": [
      "There is a 95% chance that an initial investment of $20000 in the portfolio over the next 30 years will end within in the range of $88820.07 and $633815.62\n"
     ]
    }
   ],
   "source": [
    "# Set initial investment\n",
    "initial_investment1 = 20000 * 1.5\n",
    "\n",
    "# Use the lower and upper `95%` confidence intervals to calculate the range of the possible outcomes of our $30,000\n",
    "ci_lower = round(even_tbl[8]*30000,2)\n",
    "ci_upper = round(even_tbl[9]*30000,2)\n",
    "\n",
    "\n",
    "\n",
    "# Print results\n",
    "print(f\"There is a 95% chance that an initial investment of ${initial_investment} in the portfolio\"\n",
    "      f\" over the next 30 years will end within in the range of\"\n",
    "      f\" ${ci_lower} and ${ci_upper}\")\n"
   ]
  },
  {
   "cell_type": "code",
   "execution_count": null,
   "id": "4c436e43",
   "metadata": {},
   "outputs": [],
   "source": []
  },
  {
   "cell_type": "code",
   "execution_count": null,
   "id": "97d3b6c4",
   "metadata": {},
   "outputs": [],
   "source": []
  },
  {
   "cell_type": "code",
   "execution_count": null,
   "id": "107bac5f",
   "metadata": {},
   "outputs": [],
   "source": []
  },
  {
   "cell_type": "code",
   "execution_count": null,
   "id": "3e388225",
   "metadata": {},
   "outputs": [],
   "source": []
  }
 ],
 "metadata": {
  "kernelspec": {
   "display_name": "Python 3 (ipykernel)",
   "language": "python",
   "name": "python3"
  },
  "language_info": {
   "codemirror_mode": {
    "name": "ipython",
    "version": 3
   },
   "file_extension": ".py",
   "mimetype": "text/x-python",
   "name": "python",
   "nbconvert_exporter": "python",
   "pygments_lexer": "ipython3",
   "version": "3.8.12"
  }
 },
 "nbformat": 4,
 "nbformat_minor": 5
}
